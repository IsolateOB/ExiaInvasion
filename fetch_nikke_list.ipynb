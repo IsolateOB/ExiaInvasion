{
 "cells": [
  {
   "cell_type": "code",
   "execution_count": 7,
   "id": "6f7b4d8bdfe01bd",
   "metadata": {
    "ExecuteTime": {
     "end_time": "2025-04-12T07:32:50.671102Z",
     "start_time": "2025-04-12T07:32:50.663967Z"
    }
   },
   "outputs": [],
   "source": [
    "import json\n",
    "import os\n",
    "from opencc import OpenCC\n",
    "import requests\n",
    "\n",
    "# 读取并返回 JSON 数据\n",
    "def load_json(path):\n",
    "    with open(path, 'r', encoding='utf-8') as f:\n",
    "        return json.load(f)\n",
    "    \n",
    "# 格式化 JSON 数据为字符串\n",
    "def format_json(data):\n",
    "    return json.dumps(data, ensure_ascii=False, indent=4)\n",
    "\n",
    "# 从指定 URL 获取 JSON 并返回解析后的 Python 对象\n",
    "def fetch_json(url):\n",
    "    resp = requests.get(url)\n",
    "    resp.raise_for_status()\n",
    "    return resp.json()"
   ]
  },
  {
   "cell_type": "code",
   "execution_count": 8,
   "id": "initial_id",
   "metadata": {
    "ExecuteTime": {
     "end_time": "2025-04-12T07:32:50.778251Z",
     "start_time": "2025-04-12T07:32:50.682637Z"
    },
    "collapsed": true
   },
   "outputs": [],
   "source": [
    "tw_url = 'https://sg-tools-cdn.blablalink.com/hw-20/xg-89/00797de77cede337d41d30c45aadb122.json'\n",
    "en_url = 'https://sg-tools-cdn.blablalink.com/yl-57/hd-03/1bf030193826e243c2e195f951a4be00.json'\n",
    "\n",
    "\n",
    "tw_data = fetch_json(tw_url)\n",
    "en_data = fetch_json(en_url)\n",
    "\n",
    "en_dict = { entry['id']: entry for entry in en_data }\n",
    "\n",
    "cc = OpenCC('t2s')  # 将繁体转换为简体\n",
    "\n",
    "combined_list = []\n",
    "for tw in tw_data:\n",
    "    uid = tw['id']\n",
    "    if uid not in en_dict:\n",
    "        # 如果英文表里没有对应的 id，可以选择跳过或保留部分字段；这里跳过\n",
    "        continue\n",
    "\n",
    "    en = en_dict[uid]\n",
    "\n",
    "    # 提取各字段\n",
    "    item = {\n",
    "        'id': uid,\n",
    "        'name_code': tw.get('name_code'),\n",
    "        'class': tw.get('class'),\n",
    "        # 将繁体中文转换为简体\n",
    "        'name_cn': cc.convert( tw['name_localkey']['name'] ),\n",
    "        'name_en': en['name_localkey']['name'],\n",
    "        'element': tw['element_id']['element']['element'],\n",
    "        'use_burst_skill': tw.get('use_burst_skill'),\n",
    "        'corporation': tw.get('corporation'),\n",
    "        'weapon_type': tw['shot_id']['element']['weapon_type'],\n",
    "        'original_rare': tw.get('original_rare'),\n",
    "    }\n",
    "    combined_list.append(item)\n",
    "\n",
    "\n",
    "output_path = 'nikke_list.json'\n",
    "with open(output_path, 'w', encoding='utf-8') as f:\n",
    "    json.dump(combined_list, f, ensure_ascii=False, indent=4)"
   ]
  }
 ],
 "metadata": {
  "kernelspec": {
   "display_name": "Python 3",
   "language": "python",
   "name": "python3"
  },
  "language_info": {
   "codemirror_mode": {
    "name": "ipython",
    "version": 3
   },
   "file_extension": ".py",
   "mimetype": "text/x-python",
   "name": "python",
   "nbconvert_exporter": "python",
   "pygments_lexer": "ipython3",
   "version": "3.13.2"
  }
 },
 "nbformat": 4,
 "nbformat_minor": 5
}
